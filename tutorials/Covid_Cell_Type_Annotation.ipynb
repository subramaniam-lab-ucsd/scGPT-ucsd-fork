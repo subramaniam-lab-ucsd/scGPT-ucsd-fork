{
 "cells": [
  {
   "cell_type": "code",
   "execution_count": 1,
   "metadata": {},
   "outputs": [
    {
     "name": "stderr",
     "output_type": "stream",
     "text": [
      "/home/s5srinivasan/scGPT-ucsd-fork/tutorials/../scgpt/model/model.py:21: UserWarning: flash_attn is not installed\n",
      "  warnings.warn(\"flash_attn is not installed\")\n",
      "/home/s5srinivasan/scGPT-ucsd-fork/tutorials/../scgpt/model/multiomic_model.py:19: UserWarning: flash_attn is not installed\n",
      "  warnings.warn(\"flash_attn is not installed\")\n"
     ]
    }
   ],
   "source": [
    "# %%\n",
    "import copy\n",
    "import gc\n",
    "import json\n",
    "import os\n",
    "from pathlib import Path\n",
    "import shutil\n",
    "import sys\n",
    "import time\n",
    "import traceback\n",
    "from typing import List, Tuple, Dict, Union, Optional\n",
    "import warnings\n",
    "import pandas as pd\n",
    "# from . import asyn\n",
    "import pickle\n",
    "import torch\n",
    "from anndata import AnnData\n",
    "import scanpy as sc\n",
    "# import scvi\n",
    "import seaborn as sns\n",
    "import numpy as np\n",
    "import wandb\n",
    "from scipy.sparse import issparse\n",
    "import matplotlib.pyplot as plt\n",
    "from torch import nn\n",
    "from torch.nn import functional as F\n",
    "from torch.utils.data import Dataset, DataLoader\n",
    "from sklearn.model_selection import train_test_split\n",
    "from sklearn.metrics import adjusted_rand_score, normalized_mutual_info_score\n",
    "from torchtext.vocab import Vocab\n",
    "from torchtext._torchtext import (\n",
    "    Vocab as VocabPybind,\n",
    ")\n",
    "from sklearn.metrics import confusion_matrix\n",
    "\n",
    "sys.path.insert(0, \"../\")\n",
    "import scgpt as scg\n",
    "from scgpt.model import TransformerModel, AdversarialDiscriminator\n",
    "from scgpt.tokenizer import tokenize_and_pad_batch, random_mask_value\n",
    "from scgpt.loss import (\n",
    "    masked_mse_loss,\n",
    "    masked_relative_error,\n",
    "    criterion_neg_log_bernoulli,\n",
    ")\n",
    "from scgpt.tokenizer.gene_tokenizer import GeneVocab\n",
    "from scgpt.preprocess import Preprocessor\n",
    "from scgpt import SubsetsBatchSampler\n",
    "from scgpt.utils import set_seed, category_str2int, eval_scib_metrics\n",
    "\n",
    "sc.set_figure_params(figsize=(6, 6))\n",
    "os.environ[\"KMP_WARNINGS\"] = \"off\"\n",
    "warnings.filterwarnings('ignore')"
   ]
  },
  {
   "cell_type": "code",
   "execution_count": 2,
   "metadata": {},
   "outputs": [],
   "source": [
    "hyperparameter_defaults = dict(\n",
    "    seed=0,\n",
    "    dataset_name=\"covid\",\n",
    "    do_train=True,\n",
    "    load_model=\"../save/scGPT_human\",\n",
    "    mask_ratio=0.0,\n",
    "    epochs=10,\n",
    "    n_bins=51,\n",
    "    MVC=False, # Masked value prediction for cell embedding\n",
    "    ecs_thres=0.0, # Elastic cell similarity objective, 0.0 to 1.0, 0.0 to disable\n",
    "    dab_weight=0.0,\n",
    "    lr=1e-4,\n",
    "    batch_size=16   ,\n",
    "    layer_size=128,\n",
    "    nlayers=4,  # number of nn.TransformerEncoderLayer in nn.TransformerEncoder\n",
    "    nhead=4,  # number of heads in nn.MultiheadAttention\n",
    "    dropout=0.2,  # dropout probability\n",
    "    schedule_ratio=0.9,  # ratio of epochs for learning rate schedule\n",
    "    save_eval_interval=5,\n",
    "    fast_transformer=True,\n",
    "    pre_norm=False,\n",
    "    amp=True,  # Automatic Mixed Precision\n",
    "    include_zero_gene = False,\n",
    "    freeze = False, #freeze\n",
    "    DSBN = False,  # Domain-spec batchnorm\n",
    ")"
   ]
  },
  {
   "cell_type": "code",
   "execution_count": 3,
   "metadata": {},
   "outputs": [
    {
     "name": "stderr",
     "output_type": "stream",
     "text": [
      "\u001b[34m\u001b[1mwandb\u001b[0m: Using wandb-core as the SDK backend. Please refer to https://wandb.me/wandb-core for more information.\n"
     ]
    },
    {
     "name": "stderr",
     "output_type": "stream",
     "text": [
      "\u001b[34m\u001b[1mwandb\u001b[0m: Currently logged in as: \u001b[33msrks\u001b[0m (\u001b[33msrks-uc-san-diego\u001b[0m). Use \u001b[1m`wandb login --relogin`\u001b[0m to force relogin\n"
     ]
    },
    {
     "data": {
      "application/vnd.jupyter.widget-view+json": {
       "model_id": "d3fa2a5033b04e838f358365a2438891",
       "version_major": 2,
       "version_minor": 0
      },
      "text/plain": [
       "VBox(children=(Label(value='Waiting for wandb.init()...\\r'), FloatProgress(value=0.01111274573356948, max=1.0)…"
      ]
     },
     "metadata": {},
     "output_type": "display_data"
    },
    {
     "data": {
      "text/html": [
       "Tracking run with wandb version 0.18.5"
      ],
      "text/plain": [
       "<IPython.core.display.HTML object>"
      ]
     },
     "metadata": {},
     "output_type": "display_data"
    },
    {
     "data": {
      "text/html": [
       "Run data is saved locally in <code>/home/s5srinivasan/scGPT-ucsd-fork/tutorials/wandb/run-20241107_164118-760b5zs9</code>"
      ],
      "text/plain": [
       "<IPython.core.display.HTML object>"
      ]
     },
     "metadata": {},
     "output_type": "display_data"
    },
    {
     "data": {
      "text/html": [
       "Syncing run <strong><a href='https://wandb.ai/srks-uc-san-diego/scGPT/runs/760b5zs9' target=\"_blank\">gallant-thunder-17</a></strong> to <a href='https://wandb.ai/srks-uc-san-diego/scGPT' target=\"_blank\">Weights & Biases</a> (<a href='https://wandb.me/run' target=\"_blank\">docs</a>)<br/>"
      ],
      "text/plain": [
       "<IPython.core.display.HTML object>"
      ]
     },
     "metadata": {},
     "output_type": "display_data"
    },
    {
     "data": {
      "text/html": [
       " View project at <a href='https://wandb.ai/srks-uc-san-diego/scGPT' target=\"_blank\">https://wandb.ai/srks-uc-san-diego/scGPT</a>"
      ],
      "text/plain": [
       "<IPython.core.display.HTML object>"
      ]
     },
     "metadata": {},
     "output_type": "display_data"
    },
    {
     "data": {
      "text/html": [
       " View run at <a href='https://wandb.ai/srks-uc-san-diego/scGPT/runs/760b5zs9' target=\"_blank\">https://wandb.ai/srks-uc-san-diego/scGPT/runs/760b5zs9</a>"
      ],
      "text/plain": [
       "<IPython.core.display.HTML object>"
      ]
     },
     "metadata": {},
     "output_type": "display_data"
    },
    {
     "name": "stdout",
     "output_type": "stream",
     "text": [
      "{'seed': 0, 'dataset_name': 'covid', 'do_train': True, 'load_model': '../save/scGPT_human', 'mask_ratio': 0.0, 'epochs': 10, 'n_bins': 51, 'MVC': False, 'ecs_thres': 0.0, 'dab_weight': 0.0, 'lr': 0.0001, 'batch_size': 16, 'layer_size': 128, 'nlayers': 4, 'nhead': 4, 'dropout': 0.2, 'schedule_ratio': 0.9, 'save_eval_interval': 5, 'fast_transformer': True, 'pre_norm': False, 'amp': True, 'include_zero_gene': False, 'freeze': False, 'DSBN': False}\n"
     ]
    }
   ],
   "source": [
    "run = wandb.init(\n",
    "    config=hyperparameter_defaults,\n",
    "    project=\"scGPT\",\n",
    "    reinit=True,\n",
    "    settings=wandb.Settings(start_method=\"fork\"),\n",
    ")\n",
    "config = wandb.config\n",
    "print(config)\n",
    "\n",
    "set_seed(config.seed)"
   ]
  },
  {
   "cell_type": "code",
   "execution_count": 4,
   "metadata": {},
   "outputs": [],
   "source": [
    "# settings for input and preprocessing\n",
    "pad_token = \"<pad>\"\n",
    "special_tokens = [pad_token, \"<cls>\", \"<eoc>\"]\n",
    "mask_ratio = config.mask_ratio\n",
    "mask_value = \"auto\"  # for masked values, now it should always be auto\n",
    "\n",
    "include_zero_gene = config.include_zero_gene  # if True, include zero genes among hvgs in the training\n",
    "max_seq_len = 3001\n",
    "n_bins = config.n_bins\n",
    "\n",
    "# input/output representation\n",
    "input_style = \"binned\"  # \"normed_raw\", \"log1p\", or \"binned\"\n",
    "output_style = \"binned\"  # \"normed_raw\", \"log1p\", or \"binned\"\n",
    "\n",
    "# settings for training\n",
    "MLM = False  # whether to use masked language modeling, currently it is always on.\n",
    "CLS = True  # celltype classification objective\n",
    "ADV = False  # Adversarial training for batch correction\n",
    "CCE = False  # Contrastive cell embedding objective\n",
    "MVC = config.MVC  # Masked value prediction for cell embedding\n",
    "ECS = config.ecs_thres > 0  # Elastic cell similarity objective\n",
    "DAB = False  # Domain adaptation by reverse backpropagation, set to 2 for separate optimizer\n",
    "INPUT_BATCH_LABELS = False  # TODO: have these help MLM and MVC, while not to classifier\n",
    "input_emb_style = \"continuous\"  # \"category\" or \"continuous\" or \"scaling\"\n",
    "cell_emb_style = \"cls\"  # \"avg-pool\" or \"w-pool\" or \"cls\"\n",
    "adv_E_delay_epochs = 0  # delay adversarial training on encoder for a few epochs\n",
    "adv_D_delay_epochs = 0\n",
    "mvc_decoder_style = \"inner product\"\n",
    "ecs_threshold = config.ecs_thres\n",
    "dab_weight = config.dab_weight\n",
    "\n",
    "explicit_zero_prob = MLM and include_zero_gene  # whether explicit bernoulli for zeros\n",
    "do_sample_in_train = False and explicit_zero_prob  # sample the bernoulli in training\n",
    "\n",
    "per_seq_batch_sample = False\n",
    "\n",
    "# settings for optimizer\n",
    "lr = config.lr  # TODO: test learning rate ratio between two tasks\n",
    "lr_ADV = 1e-3  # learning rate for discriminator, used when ADV is True\n",
    "batch_size = config.batch_size\n",
    "eval_batch_size = config.batch_size\n",
    "epochs = config.epochs\n",
    "schedule_interval = 1\n",
    "\n",
    "# settings for the model\n",
    "fast_transformer = config.fast_transformer\n",
    "fast_transformer_backend = \"flash\"  # \"linear\" or \"flash\"\n",
    "embsize = config.layer_size  # embedding dimension\n",
    "d_hid = config.layer_size  # dimension of the feedforward network in TransformerEncoder\n",
    "nlayers = config.nlayers  # number of TransformerEncoderLayer in TransformerEncoder\n",
    "nhead = config.nhead  # number of heads in nn.MultiheadAttention\n",
    "dropout = config.dropout  # dropout probability\n",
    "\n",
    "# logging\n",
    "log_interval = 100  # iterations\n",
    "save_eval_interval = config.save_eval_interval  # epochs\n",
    "do_eval_scib_metrics = True"
   ]
  },
  {
   "cell_type": "code",
   "execution_count": 5,
   "metadata": {},
   "outputs": [],
   "source": [
    "# %% validate settings\n",
    "assert input_style in [\"normed_raw\", \"log1p\", \"binned\"]\n",
    "assert output_style in [\"normed_raw\", \"log1p\", \"binned\"]\n",
    "assert input_emb_style in [\"category\", \"continuous\", \"scaling\"]\n",
    "if input_style == \"binned\":\n",
    "    if input_emb_style == \"scaling\":\n",
    "        raise ValueError(\"input_emb_style `scaling` is not supported for binned input.\")\n",
    "elif input_style == \"log1p\" or input_style == \"normed_raw\":\n",
    "    if input_emb_style == \"category\":\n",
    "        raise ValueError(\n",
    "            \"input_emb_style `category` is not supported for log1p or normed_raw input.\"\n",
    "        )\n",
    "\n",
    "if input_emb_style == \"category\":\n",
    "    mask_value = n_bins + 1\n",
    "    pad_value = n_bins  # for padding gene expr values\n",
    "    n_input_bins = n_bins + 2\n",
    "else:\n",
    "    mask_value = -1\n",
    "    pad_value = -2\n",
    "    n_input_bins = n_bins\n",
    "\n",
    "if ADV and DAB:\n",
    "    raise ValueError(\"ADV and DAB cannot be both True.\")\n",
    "DAB_separate_optim = True if DAB > 1 else False"
   ]
  },
  {
   "cell_type": "code",
   "execution_count": 6,
   "metadata": {},
   "outputs": [
    {
     "name": "stdout",
     "output_type": "stream",
     "text": [
      "save to ../save/dev_covid-Nov07-16-41\n"
     ]
    }
   ],
   "source": [
    "dataset_name = config.dataset_name\n",
    "save_dir = Path(f\"../save/dev_{dataset_name}-{time.strftime('%b%d-%H-%M')}/\")\n",
    "save_dir.mkdir(parents=True, exist_ok=True)\n",
    "print(f\"save to {save_dir}\")\n",
    "logger = scg.logger\n",
    "scg.utils.add_file_handler(logger, save_dir / \"run.log\")"
   ]
  },
  {
   "cell_type": "markdown",
   "metadata": {},
   "source": [
    "## Understanding differences between MS and COVID datasets"
   ]
  },
  {
   "cell_type": "code",
   "execution_count": 8,
   "metadata": {},
   "outputs": [],
   "source": [
    "msDataPath = Path(\"../data/ms\") # multiple sclerosis data's path for reference\n",
    "covidDataPath = Path(\"../data/covid\") # covid data's path\n",
    "\n",
    "msDataTest = sc.read(msDataPath / \"filtered_ms_adata.h5ad\") # loading MS test data\n",
    "msData = sc.read(msDataPath / \"c_data.h5ad\") # loading MS data\n",
    "covidData = sc.read(covidDataPath / \"covidObj.h5ad\") # loading Covid data"
   ]
  },
  {
   "cell_type": "code",
   "execution_count": 9,
   "metadata": {},
   "outputs": [
    {
     "name": "stdout",
     "output_type": "stream",
     "text": [
      "COVID dataset \n",
      " Cells: 375438 \n",
      " Genes: 14063\n",
      "\n",
      "MS dataset \n",
      " Cells: 7844 \n",
      " Genes: 3000\n",
      "\n",
      "MS Test dataset \n",
      " Cells: 13468 \n",
      " Genes: 3000\n",
      "\n"
     ]
    }
   ],
   "source": [
    "# Observe shapes for both datasets\n",
    "print(f'COVID dataset \\n Cells: {covidData.X.shape[0]} \\n Genes: {covidData.X.shape[1]}\\n')\n",
    "print(f'MS dataset \\n Cells: {msData.X.shape[0]} \\n Genes: {msData.X.shape[1]}\\n')\n",
    "print(f'MS Test dataset \\n Cells: {msDataTest.X.shape[0]} \\n Genes: {msDataTest.X.shape[1]}\\n')"
   ]
  },
  {
   "cell_type": "code",
   "execution_count": 10,
   "metadata": {},
   "outputs": [
    {
     "data": {
      "text/html": [
       "<div>\n",
       "<style scoped>\n",
       "    .dataframe tbody tr th:only-of-type {\n",
       "        vertical-align: middle;\n",
       "    }\n",
       "\n",
       "    .dataframe tbody tr th {\n",
       "        vertical-align: top;\n",
       "    }\n",
       "\n",
       "    .dataframe thead th {\n",
       "        text-align: right;\n",
       "    }\n",
       "</style>\n",
       "<table border=\"1\" class=\"dataframe\">\n",
       "  <thead>\n",
       "    <tr style=\"text-align: right;\">\n",
       "      <th></th>\n",
       "      <th>orig.ident</th>\n",
       "      <th>nCount_RNA</th>\n",
       "      <th>nFeature_RNA</th>\n",
       "      <th>Infection_status</th>\n",
       "      <th>Severity</th>\n",
       "      <th>log10GenesPerUMI</th>\n",
       "      <th>percent.mt</th>\n",
       "      <th>percent.Heme</th>\n",
       "      <th>Study</th>\n",
       "      <th>seurat_clusters</th>\n",
       "      <th>new.annot2</th>\n",
       "    </tr>\n",
       "  </thead>\n",
       "  <tbody>\n",
       "    <tr>\n",
       "      <th>560_cell.588_AGTTGGAGAACG_1</th>\n",
       "      <td>560_cell</td>\n",
       "      <td>285.0</td>\n",
       "      <td>236</td>\n",
       "      <td>Covid</td>\n",
       "      <td>Severe</td>\n",
       "      <td>0.800229</td>\n",
       "      <td>11.561265</td>\n",
       "      <td>0.000000</td>\n",
       "      <td>Wilk</td>\n",
       "      <td>26</td>\n",
       "      <td>4</td>\n",
       "    </tr>\n",
       "    <tr>\n",
       "      <th>560_cell.637_TTGACACATACC_1</th>\n",
       "      <td>560_cell</td>\n",
       "      <td>555.0</td>\n",
       "      <td>284</td>\n",
       "      <td>Covid</td>\n",
       "      <td>Severe</td>\n",
       "      <td>0.821141</td>\n",
       "      <td>8.294501</td>\n",
       "      <td>17.334576</td>\n",
       "      <td>Wilk</td>\n",
       "      <td>34</td>\n",
       "      <td>4</td>\n",
       "    </tr>\n",
       "    <tr>\n",
       "      <th>560_cell.639_CACCATAAGAAT_1</th>\n",
       "      <td>560_cell</td>\n",
       "      <td>523.0</td>\n",
       "      <td>284</td>\n",
       "      <td>Covid</td>\n",
       "      <td>Severe</td>\n",
       "      <td>0.828072</td>\n",
       "      <td>2.131783</td>\n",
       "      <td>15.116279</td>\n",
       "      <td>Wilk</td>\n",
       "      <td>55</td>\n",
       "      <td>14</td>\n",
       "    </tr>\n",
       "    <tr>\n",
       "      <th>560_cell.647_TTGTGAAACAGT_1</th>\n",
       "      <td>560_cell</td>\n",
       "      <td>675.0</td>\n",
       "      <td>295</td>\n",
       "      <td>Covid</td>\n",
       "      <td>Severe</td>\n",
       "      <td>0.813503</td>\n",
       "      <td>7.190083</td>\n",
       "      <td>23.636364</td>\n",
       "      <td>Wilk</td>\n",
       "      <td>10</td>\n",
       "      <td>4</td>\n",
       "    </tr>\n",
       "    <tr>\n",
       "      <th>560_cell.652_CTAAGTTGCTTT_1</th>\n",
       "      <td>560_cell</td>\n",
       "      <td>461.0</td>\n",
       "      <td>301</td>\n",
       "      <td>Covid</td>\n",
       "      <td>Severe</td>\n",
       "      <td>0.836481</td>\n",
       "      <td>9.232264</td>\n",
       "      <td>7.580175</td>\n",
       "      <td>Wilk</td>\n",
       "      <td>50</td>\n",
       "      <td>1</td>\n",
       "    </tr>\n",
       "    <tr>\n",
       "      <th>...</th>\n",
       "      <td>...</td>\n",
       "      <td>...</td>\n",
       "      <td>...</td>\n",
       "      <td>...</td>\n",
       "      <td>...</td>\n",
       "      <td>...</td>\n",
       "      <td>...</td>\n",
       "      <td>...</td>\n",
       "      <td>...</td>\n",
       "      <td>...</td>\n",
       "      <td>...</td>\n",
       "    </tr>\n",
       "    <tr>\n",
       "      <th>TGTACCTTACACTCGAGAAAGGGTCAG_22_5</th>\n",
       "      <td>BN-28</td>\n",
       "      <td>1629.0</td>\n",
       "      <td>659</td>\n",
       "      <td>Healthy</td>\n",
       "      <td>Healthy</td>\n",
       "      <td>0.882532</td>\n",
       "      <td>21.009867</td>\n",
       "      <td>0.000000</td>\n",
       "      <td>SS_C2</td>\n",
       "      <td>15</td>\n",
       "      <td>8</td>\n",
       "    </tr>\n",
       "    <tr>\n",
       "      <th>AACTGTATTACTATCCTCCTAGATAGA_22_5</th>\n",
       "      <td>BN-05</td>\n",
       "      <td>709.0</td>\n",
       "      <td>390</td>\n",
       "      <td>Covid</td>\n",
       "      <td>Non-severe</td>\n",
       "      <td>0.907000</td>\n",
       "      <td>20.129870</td>\n",
       "      <td>0.779221</td>\n",
       "      <td>SS_C2</td>\n",
       "      <td>23</td>\n",
       "      <td>4</td>\n",
       "    </tr>\n",
       "    <tr>\n",
       "      <th>CACATTGCAGCTAACTCACAGGCATTT_22_5</th>\n",
       "      <td>BN-28</td>\n",
       "      <td>446.0</td>\n",
       "      <td>310</td>\n",
       "      <td>Healthy</td>\n",
       "      <td>Healthy</td>\n",
       "      <td>0.931754</td>\n",
       "      <td>17.892644</td>\n",
       "      <td>0.397614</td>\n",
       "      <td>SS_C2</td>\n",
       "      <td>23</td>\n",
       "      <td>4</td>\n",
       "    </tr>\n",
       "    <tr>\n",
       "      <th>TCTCTTCAACAATTGATCAGCCGCAAG_22_5</th>\n",
       "      <td>BN-12</td>\n",
       "      <td>893.0</td>\n",
       "      <td>586</td>\n",
       "      <td>Covid</td>\n",
       "      <td>Severe</td>\n",
       "      <td>0.940330</td>\n",
       "      <td>13.244353</td>\n",
       "      <td>0.410678</td>\n",
       "      <td>SS_C2</td>\n",
       "      <td>31</td>\n",
       "      <td>2</td>\n",
       "    </tr>\n",
       "    <tr>\n",
       "      <th>CAAACCGCCAATTATAACCAGGCATTT_22_5</th>\n",
       "      <td>BN-05</td>\n",
       "      <td>491.0</td>\n",
       "      <td>303</td>\n",
       "      <td>Covid</td>\n",
       "      <td>Non-severe</td>\n",
       "      <td>0.924428</td>\n",
       "      <td>19.111969</td>\n",
       "      <td>0.000000</td>\n",
       "      <td>SS_C2</td>\n",
       "      <td>26</td>\n",
       "      <td>4</td>\n",
       "    </tr>\n",
       "  </tbody>\n",
       "</table>\n",
       "<p>375438 rows × 11 columns</p>\n",
       "</div>"
      ],
      "text/plain": [
       "                                 orig.ident  nCount_RNA  nFeature_RNA  \\\n",
       "560_cell.588_AGTTGGAGAACG_1        560_cell       285.0           236   \n",
       "560_cell.637_TTGACACATACC_1        560_cell       555.0           284   \n",
       "560_cell.639_CACCATAAGAAT_1        560_cell       523.0           284   \n",
       "560_cell.647_TTGTGAAACAGT_1        560_cell       675.0           295   \n",
       "560_cell.652_CTAAGTTGCTTT_1        560_cell       461.0           301   \n",
       "...                                     ...         ...           ...   \n",
       "TGTACCTTACACTCGAGAAAGGGTCAG_22_5      BN-28      1629.0           659   \n",
       "AACTGTATTACTATCCTCCTAGATAGA_22_5      BN-05       709.0           390   \n",
       "CACATTGCAGCTAACTCACAGGCATTT_22_5      BN-28       446.0           310   \n",
       "TCTCTTCAACAATTGATCAGCCGCAAG_22_5      BN-12       893.0           586   \n",
       "CAAACCGCCAATTATAACCAGGCATTT_22_5      BN-05       491.0           303   \n",
       "\n",
       "                                 Infection_status    Severity  \\\n",
       "560_cell.588_AGTTGGAGAACG_1                 Covid      Severe   \n",
       "560_cell.637_TTGACACATACC_1                 Covid      Severe   \n",
       "560_cell.639_CACCATAAGAAT_1                 Covid      Severe   \n",
       "560_cell.647_TTGTGAAACAGT_1                 Covid      Severe   \n",
       "560_cell.652_CTAAGTTGCTTT_1                 Covid      Severe   \n",
       "...                                           ...         ...   \n",
       "TGTACCTTACACTCGAGAAAGGGTCAG_22_5          Healthy     Healthy   \n",
       "AACTGTATTACTATCCTCCTAGATAGA_22_5            Covid  Non-severe   \n",
       "CACATTGCAGCTAACTCACAGGCATTT_22_5          Healthy     Healthy   \n",
       "TCTCTTCAACAATTGATCAGCCGCAAG_22_5            Covid      Severe   \n",
       "CAAACCGCCAATTATAACCAGGCATTT_22_5            Covid  Non-severe   \n",
       "\n",
       "                                  log10GenesPerUMI  percent.mt  percent.Heme  \\\n",
       "560_cell.588_AGTTGGAGAACG_1               0.800229   11.561265      0.000000   \n",
       "560_cell.637_TTGACACATACC_1               0.821141    8.294501     17.334576   \n",
       "560_cell.639_CACCATAAGAAT_1               0.828072    2.131783     15.116279   \n",
       "560_cell.647_TTGTGAAACAGT_1               0.813503    7.190083     23.636364   \n",
       "560_cell.652_CTAAGTTGCTTT_1               0.836481    9.232264      7.580175   \n",
       "...                                            ...         ...           ...   \n",
       "TGTACCTTACACTCGAGAAAGGGTCAG_22_5          0.882532   21.009867      0.000000   \n",
       "AACTGTATTACTATCCTCCTAGATAGA_22_5          0.907000   20.129870      0.779221   \n",
       "CACATTGCAGCTAACTCACAGGCATTT_22_5          0.931754   17.892644      0.397614   \n",
       "TCTCTTCAACAATTGATCAGCCGCAAG_22_5          0.940330   13.244353      0.410678   \n",
       "CAAACCGCCAATTATAACCAGGCATTT_22_5          0.924428   19.111969      0.000000   \n",
       "\n",
       "                                  Study  seurat_clusters  new.annot2  \n",
       "560_cell.588_AGTTGGAGAACG_1        Wilk               26           4  \n",
       "560_cell.637_TTGACACATACC_1        Wilk               34           4  \n",
       "560_cell.639_CACCATAAGAAT_1        Wilk               55          14  \n",
       "560_cell.647_TTGTGAAACAGT_1        Wilk               10           4  \n",
       "560_cell.652_CTAAGTTGCTTT_1        Wilk               50           1  \n",
       "...                                 ...              ...         ...  \n",
       "TGTACCTTACACTCGAGAAAGGGTCAG_22_5  SS_C2               15           8  \n",
       "AACTGTATTACTATCCTCCTAGATAGA_22_5  SS_C2               23           4  \n",
       "CACATTGCAGCTAACTCACAGGCATTT_22_5  SS_C2               23           4  \n",
       "TCTCTTCAACAATTGATCAGCCGCAAG_22_5  SS_C2               31           2  \n",
       "CAAACCGCCAATTATAACCAGGCATTT_22_5  SS_C2               26           4  \n",
       "\n",
       "[375438 rows x 11 columns]"
      ]
     },
     "execution_count": 10,
     "metadata": {},
     "output_type": "execute_result"
    }
   ],
   "source": [
    "covidData.obs"
   ]
  },
  {
   "cell_type": "code",
   "execution_count": 11,
   "metadata": {},
   "outputs": [],
   "source": [
    "msGenes = msData.var['gene_name'] # 3000 unique genes, same for the others\n",
    "covidGenes = covidData.var['features'] # 14063 unique genes\n",
    "\n",
    "commonGenes = msGenes[msGenes.isin(covidGenes)].unique() # check all common genes\n",
    "uniqueGenes = pd.concat([msGenes, covidGenes]).unique() # check all unique genes - a union"
   ]
  },
  {
   "cell_type": "code",
   "execution_count": 39,
   "metadata": {},
   "outputs": [
    {
     "name": "stdout",
     "output_type": "stream",
     "text": [
      "Number of unique final cluster annotations: 20\n"
     ]
    }
   ],
   "source": [
    "# From Mukund et al. supplementary information \n",
    "# URL: https://www.frontiersin.org/journals/immunology/articles/10.3389/fimmu.2021.738073/full#supplementary-material\n",
    "\n",
    "column_names = [\n",
    "'cluster',\n",
    "'number of cells',\n",
    "'SingleR Annotation',\t\n",
    "'Human_gene_atlas enrichment(of ClusterMarkers)',\n",
    "'Final Cluster Identities'\n",
    "]\n",
    "\n",
    "clusterIdentities = pd.read_csv(covidDataPath / 'clusterIdentities.tsv', sep=\"\\t\", header=None, names=column_names)\n",
    "cluster_identity_map = dict(zip(clusterIdentities[\"cluster\"], clusterIdentities[\"Final Cluster Identities\"]))\n",
    "\n",
    "covidData.obs['celltype'] = covidData.obs[\"seurat_clusters\"].map(cluster_identity_map).astype(\"category\")\n",
    "                \n",
    "# make the celltype category column\n",
    "celltype_id_labels = covidData.obs[\"celltype\"].astype(\"category\").cat.codes.values\n",
    "celltypes = covidData.obs[\"celltype\"].unique()\n",
    "num_types = len(np.unique(celltype_id_labels))\n",
    "id2type = dict(enumerate(covidData.obs[\"celltype\"].astype(\"category\").cat.categories))\n",
    "covidData.obs[\"celltype_id\"] = celltype_id_labels\n",
    "\n",
    "print(f\"Number of unique final cluster annotations: {num_types}\")"
   ]
  },
  {
   "cell_type": "code",
   "execution_count": null,
   "metadata": {},
   "outputs": [],
   "source": [
    "# Rename features -> gene_name\n",
    "covidData.var.rename(columns={'features': 'gene_name'}, inplace=True)\n",
    "\n",
    "# Set gene_name as variable index\n",
    "covidData.var.set_index(covidData.var[\"gene_name\"], inplace=True)\n",
    "covidData.var[\"gene_name\"] = covidData.var.index.tolist()\n",
    "\n",
    "\n",
    "covidData.var\n",
    "\n",
    "# Make a copy of COVID data, use standard naming conventions\n",
    "adata = covidData.copy()"
   ]
  },
  {
   "cell_type": "code",
   "execution_count": null,
   "metadata": {},
   "outputs": [],
   "source": [
    "if config.load_model is not None:\n",
    "    model_dir = Path(config.load_model)\n",
    "    model_config_file = model_dir / \"args.json\"\n",
    "    model_file = model_dir / \"best_model.pt\"\n",
    "    vocab_file = model_dir / \"vocab.json\"\n",
    "\n",
    "    vocab = GeneVocab.from_file(vocab_file)\n",
    "    shutil.copy(vocab_file, save_dir / \"vocab.json\")\n",
    "    for s in special_tokens:\n",
    "        if s not in vocab:\n",
    "            vocab.append_token(s)\n",
    "\n",
    "    adata.var[\"id_in_vocab\"] = [\n",
    "        1 if gene in vocab else -1 for gene in adata.var[\"gene_name\"]\n",
    "    ]\n",
    "    gene_ids_in_vocab = np.array(adata.var[\"id_in_vocab\"])\n",
    "    logger.info(\n",
    "        f\"match {np.sum(gene_ids_in_vocab >= 0)}/{len(gene_ids_in_vocab)} genes \"\n",
    "        f\"in vocabulary of size {len(vocab)}.\"\n",
    "    )\n",
    "    adata = adata[:, adata.var[\"id_in_vocab\"] >= 0]\n",
    "\n",
    "    # model\n",
    "    with open(model_config_file, \"r\") as f:\n",
    "        model_configs = json.load(f)\n",
    "    logger.info(\n",
    "        f\"Resume model from {model_file}, the model args will override the \"\n",
    "        f\"config {model_config_file}.\"\n",
    "    )\n",
    "    embsize = model_configs[\"embsize\"]\n",
    "    nhead = model_configs[\"nheads\"]\n",
    "    d_hid = model_configs[\"d_hid\"]\n",
    "    nlayers = model_configs[\"nlayers\"]\n",
    "    n_layers_cls = model_configs[\"n_layers_cls\"]"
   ]
  },
  {
   "cell_type": "code",
   "execution_count": null,
   "metadata": {},
   "outputs": [],
   "source": []
  }
 ],
 "metadata": {
  "kernelspec": {
   "display_name": "python39env",
   "language": "python",
   "name": "python3"
  },
  "language_info": {
   "codemirror_mode": {
    "name": "ipython",
    "version": 3
   },
   "file_extension": ".py",
   "mimetype": "text/x-python",
   "name": "python",
   "nbconvert_exporter": "python",
   "pygments_lexer": "ipython3",
   "version": "3.9.18"
  }
 },
 "nbformat": 4,
 "nbformat_minor": 2
}
